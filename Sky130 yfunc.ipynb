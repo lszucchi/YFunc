{
 "cells": [
  {
   "cell_type": "code",
   "execution_count": 2,
   "id": "4edb6bb4-3ec1-48af-81b2-dcc7bbb08993",
   "metadata": {},
   "outputs": [],
   "source": [
    "from re import search\n",
    "from os import listdir\n",
    "from YFunc import YFuncExtraction, WriteLog, GUI\n",
    "from HPIB.HPT import PlotVgs, Plot\n",
    "from datetime import datetime\n",
    "\n",
    "# %matplotlib agg"
   ]
  },
  {
   "cell_type": "code",
   "execution_count": 1,
   "id": "34e70750",
   "metadata": {},
   "outputs": [
    {
     "ename": "SyntaxError",
     "evalue": "incomplete input (866155798.py, line 7)",
     "output_type": "error",
     "traceback": [
      "\u001b[1;36m  Cell \u001b[1;32mIn[1], line 7\u001b[1;36m\u001b[0m\n\u001b[1;33m    def GetToxfromPath(path):\u001b[0m\n\u001b[1;37m                             ^\u001b[0m\n\u001b[1;31mSyntaxError\u001b[0m\u001b[1;31m:\u001b[0m incomplete input\n"
     ]
    }
   ],
   "source": [
    "def GetWLfromPath(path):\n",
    "    # return path.replace('p', '.').replace('l', '')[path.find('_w')+2:].split('u_')[:-1]\n",
    "    W=float(search(\"w([0-9]*p*[0-9]*)u\", path).group()[1:-1].replace('p', '.'))*1000\n",
    "    L=float(search(\"l([0-9]*p*[0-9]*)u\", path).group()[1:-1].replace('p', '.'))*1000\n",
    "    return [W, L]\n",
    "\n",
    "def GetToxfromPath(path):\n",
    "    if '3v3' in path:\n",
    "        return 4.148\n",
    "    if '1v8' in path:\n",
    "        return 11.6\n",
    "    return 0"
   ]
  },
  {
   "cell_type": "code",
   "execution_count": 3,
   "id": "dc31f0ac-5b25-478d-98b0-f07dc4787b18",
   "metadata": {},
   "outputs": [],
   "source": [
    "%gui tk\n",
    "\n",
    "from tkinter import filedialog\n",
    "\n",
    "path=filedialog.askopenfilename()"
   ]
  },
  {
   "cell_type": "code",
   "execution_count": 4,
   "id": "1547a514",
   "metadata": {},
   "outputs": [],
   "source": [
    "path='C:/Users/Zucchi-Note/Dropbox/Cryochip/Medidas/Sky130-4k/'"
   ]
  },
  {
   "cell_type": "code",
   "execution_count": null,
   "id": "67a54c07-0260-41c3-bf2f-65b9dea4d585",
   "metadata": {},
   "outputs": [
    {
     "name": "stderr",
     "output_type": "stream",
     "text": [
      "c:\\Users\\Zucchi-Note\\Jupyter\\YFunc\\__init__.py:101: RuntimeWarning: invalid value encountered in log10\n",
      "  VglogId=np.diff(Vg)/np.diff(np.log10(Id))\n"
     ]
    },
    {
     "name": "stdout",
     "output_type": "stream",
     "text": [
      "+0.00000e+00,+0.00000e+00,0.0,+0.00000e+00,+0.00000e+00,+0.00000e+00,+0.00000e+00,+0.00000e+00\n"
     ]
    },
    {
     "name": "stderr",
     "output_type": "stream",
     "text": [
      "c:\\Users\\Zucchi-Note\\Jupyter\\YFunc\\__init__.py:101: RuntimeWarning: invalid value encountered in log10\n",
      "  VglogId=np.diff(Vg)/np.diff(np.log10(Id))\n",
      "c:\\Users\\Zucchi-Note\\Jupyter\\YFunc\\__init__.py:101: RuntimeWarning: divide by zero encountered in divide\n",
      "  VglogId=np.diff(Vg)/np.diff(np.log10(Id))\n"
     ]
    },
    {
     "name": "stdout",
     "output_type": "stream",
     "text": [
      "+0.00000e+00,+0.00000e+00,0.0,+0.00000e+00,+0.00000e+00,+0.00000e+00,+0.00000e+00,+0.00000e+00\n"
     ]
    },
    {
     "name": "stderr",
     "output_type": "stream",
     "text": [
      "c:\\Users\\Zucchi-Note\\Jupyter\\YFunc\\__init__.py:101: RuntimeWarning: invalid value encountered in log10\n",
      "  VglogId=np.diff(Vg)/np.diff(np.log10(Id))\n"
     ]
    },
    {
     "name": "stdout",
     "output_type": "stream",
     "text": [
      "+0.00000e+00,+0.00000e+00,0.0,+0.00000e+00,+0.00000e+00,+0.00000e+00,+0.00000e+00,+0.00000e+00\n"
     ]
    },
    {
     "name": "stderr",
     "output_type": "stream",
     "text": [
      "c:\\Users\\Zucchi-Note\\Jupyter\\YFunc\\__init__.py:101: RuntimeWarning: invalid value encountered in log10\n",
      "  VglogId=np.diff(Vg)/np.diff(np.log10(Id))\n"
     ]
    },
    {
     "name": "stdout",
     "output_type": "stream",
     "text": [
      "+0.00000e+00,+0.00000e+00,0.0,+0.00000e+00,+0.00000e+00,+0.00000e+00,+0.00000e+00,+0.00000e+00\n"
     ]
    },
    {
     "name": "stderr",
     "output_type": "stream",
     "text": [
      "c:\\Users\\Zucchi-Note\\Jupyter\\YFunc\\__init__.py:101: RuntimeWarning: invalid value encountered in log10\n",
      "  VglogId=np.diff(Vg)/np.diff(np.log10(Id))\n"
     ]
    },
    {
     "name": "stdout",
     "output_type": "stream",
     "text": [
      "+0.00000e+00,+0.00000e+00,0.0,+0.00000e+00,+0.00000e+00,+0.00000e+00,+0.00000e+00,+0.00000e+00\n"
     ]
    },
    {
     "name": "stderr",
     "output_type": "stream",
     "text": [
      "c:\\Users\\Zucchi-Note\\Jupyter\\YFunc\\__init__.py:101: RuntimeWarning: invalid value encountered in log10\n",
      "  VglogId=np.diff(Vg)/np.diff(np.log10(Id))\n"
     ]
    },
    {
     "name": "stdout",
     "output_type": "stream",
     "text": [
      "+0.00000e+00,+0.00000e+00,0.0,+0.00000e+00,+0.00000e+00,+0.00000e+00,+0.00000e+00,+0.00000e+00\n"
     ]
    },
    {
     "name": "stderr",
     "output_type": "stream",
     "text": [
      "c:\\Users\\Zucchi-Note\\Jupyter\\YFunc\\__init__.py:101: RuntimeWarning: invalid value encountered in log10\n",
      "  VglogId=np.diff(Vg)/np.diff(np.log10(Id))\n"
     ]
    },
    {
     "name": "stdout",
     "output_type": "stream",
     "text": [
      "+0.00000e+00,+0.00000e+00,0.0,+0.00000e+00,+0.00000e+00,+0.00000e+00,+0.00000e+00,+0.00000e+00\n",
      "+0.00000e+00,+0.00000e+00,0.0,+0.00000e+00,+0.00000e+00,+0.00000e+00,+0.00000e+00,+0.00000e+00\n"
     ]
    },
    {
     "name": "stderr",
     "output_type": "stream",
     "text": [
      "c:\\Users\\Zucchi-Note\\Jupyter\\YFunc\\__init__.py:101: RuntimeWarning: invalid value encountered in log10\n",
      "  VglogId=np.diff(Vg)/np.diff(np.log10(Id))\n",
      "c:\\Users\\Zucchi-Note\\Jupyter\\YFunc\\__init__.py:101: RuntimeWarning: divide by zero encountered in log10\n",
      "  VglogId=np.diff(Vg)/np.diff(np.log10(Id))\n",
      "c:\\Users\\Zucchi-Note\\Jupyter\\YFunc\\__init__.py:101: RuntimeWarning: invalid value encountered in log10\n",
      "  VglogId=np.diff(Vg)/np.diff(np.log10(Id))\n"
     ]
    },
    {
     "name": "stdout",
     "output_type": "stream",
     "text": [
      "+0.00000e+00,+0.00000e+00,0.0,+0.00000e+00,+0.00000e+00,+0.00000e+00,+0.00000e+00,+0.00000e+00\n"
     ]
    },
    {
     "name": "stderr",
     "output_type": "stream",
     "text": [
      "c:\\Users\\Zucchi-Note\\Jupyter\\YFunc\\__init__.py:101: RuntimeWarning: invalid value encountered in log10\n",
      "  VglogId=np.diff(Vg)/np.diff(np.log10(Id))\n"
     ]
    },
    {
     "name": "stdout",
     "output_type": "stream",
     "text": [
      "+0.00000e+00,+0.00000e+00,0.0,+0.00000e+00,+0.00000e+00,+0.00000e+00,+0.00000e+00,+0.00000e+00\n"
     ]
    },
    {
     "name": "stderr",
     "output_type": "stream",
     "text": [
      "c:\\Users\\Zucchi-Note\\Jupyter\\YFunc\\__init__.py:101: RuntimeWarning: invalid value encountered in log10\n",
      "  VglogId=np.diff(Vg)/np.diff(np.log10(Id))\n"
     ]
    },
    {
     "name": "stdout",
     "output_type": "stream",
     "text": [
      "+0.00000e+00,+0.00000e+00,0.0,+0.00000e+00,+0.00000e+00,+0.00000e+00,+0.00000e+00,+0.00000e+00\n"
     ]
    },
    {
     "name": "stderr",
     "output_type": "stream",
     "text": [
      "c:\\Users\\Zucchi-Note\\Jupyter\\YFunc\\__init__.py:101: RuntimeWarning: invalid value encountered in log10\n",
      "  VglogId=np.diff(Vg)/np.diff(np.log10(Id))\n"
     ]
    },
    {
     "name": "stdout",
     "output_type": "stream",
     "text": [
      "+0.00000e+00,+0.00000e+00,0.0,+0.00000e+00,+0.00000e+00,+0.00000e+00,+0.00000e+00,+0.00000e+00\n"
     ]
    },
    {
     "name": "stderr",
     "output_type": "stream",
     "text": [
      "c:\\Users\\Zucchi-Note\\Jupyter\\YFunc\\__init__.py:101: RuntimeWarning: invalid value encountered in log10\n",
      "  VglogId=np.diff(Vg)/np.diff(np.log10(Id))\n"
     ]
    },
    {
     "name": "stdout",
     "output_type": "stream",
     "text": [
      "+0.00000e+00,+0.00000e+00,0.0,+0.00000e+00,+0.00000e+00,+0.00000e+00,+0.00000e+00,+0.00000e+00\n",
      "+0.00000e+00,+0.00000e+00,0.0,+0.00000e+00,+0.00000e+00,+0.00000e+00,+0.00000e+00,+0.00000e+00\n"
     ]
    },
    {
     "name": "stderr",
     "output_type": "stream",
     "text": [
      "c:\\Users\\Zucchi-Note\\Jupyter\\YFunc\\__init__.py:101: RuntimeWarning: invalid value encountered in log10\n",
      "  VglogId=np.diff(Vg)/np.diff(np.log10(Id))\n",
      "c:\\Users\\Zucchi-Note\\Jupyter\\YFunc\\__init__.py:101: RuntimeWarning: invalid value encountered in log10\n",
      "  VglogId=np.diff(Vg)/np.diff(np.log10(Id))\n"
     ]
    },
    {
     "name": "stdout",
     "output_type": "stream",
     "text": [
      "+0.00000e+00,+0.00000e+00,0.0,+0.00000e+00,+0.00000e+00,+0.00000e+00,+0.00000e+00,+0.00000e+00\n",
      "+0.00000e+00,+0.00000e+00,0.0,+0.00000e+00,+0.00000e+00,+0.00000e+00,+0.00000e+00,+0.00000e+00\n"
     ]
    },
    {
     "name": "stderr",
     "output_type": "stream",
     "text": [
      "c:\\Users\\Zucchi-Note\\Jupyter\\YFunc\\__init__.py:101: RuntimeWarning: invalid value encountered in log10\n",
      "  VglogId=np.diff(Vg)/np.diff(np.log10(Id))\n",
      "c:\\Users\\Zucchi-Note\\Jupyter\\YFunc\\__init__.py:101: RuntimeWarning: invalid value encountered in log10\n",
      "  VglogId=np.diff(Vg)/np.diff(np.log10(Id))\n"
     ]
    },
    {
     "name": "stdout",
     "output_type": "stream",
     "text": [
      "+0.00000e+00,+0.00000e+00,0.0,+0.00000e+00,+0.00000e+00,+0.00000e+00,+0.00000e+00,+0.00000e+00\n",
      "+0.00000e+00,+0.00000e+00,0.0,+0.00000e+00,+0.00000e+00,+0.00000e+00,+0.00000e+00,+0.00000e+00\n"
     ]
    },
    {
     "name": "stderr",
     "output_type": "stream",
     "text": [
      "c:\\Users\\Zucchi-Note\\Jupyter\\YFunc\\__init__.py:101: RuntimeWarning: invalid value encountered in log10\n",
      "  VglogId=np.diff(Vg)/np.diff(np.log10(Id))\n",
      "c:\\Users\\Zucchi-Note\\Jupyter\\YFunc\\__init__.py:101: RuntimeWarning: divide by zero encountered in log10\n",
      "  VglogId=np.diff(Vg)/np.diff(np.log10(Id))\n",
      "c:\\Users\\Zucchi-Note\\Jupyter\\YFunc\\__init__.py:101: RuntimeWarning: invalid value encountered in log10\n",
      "  VglogId=np.diff(Vg)/np.diff(np.log10(Id))\n"
     ]
    },
    {
     "name": "stdout",
     "output_type": "stream",
     "text": [
      "+0.00000e+00,+0.00000e+00,0.0,+0.00000e+00,+0.00000e+00,+0.00000e+00,+0.00000e+00,+0.00000e+00\n",
      "+0.00000e+00,+0.00000e+00,0.0,+0.00000e+00,+0.00000e+00,+0.00000e+00,+0.00000e+00,+0.00000e+00\n",
      "+0.00000e+00,+0.00000e+00,0.0,+0.00000e+00,+0.00000e+00,+0.00000e+00,+0.00000e+00,+0.00000e+00\n"
     ]
    },
    {
     "name": "stderr",
     "output_type": "stream",
     "text": [
      "c:\\Users\\Zucchi-Note\\Jupyter\\YFunc\\__init__.py:101: RuntimeWarning: divide by zero encountered in log10\n",
      "  VglogId=np.diff(Vg)/np.diff(np.log10(Id))\n",
      "c:\\Users\\Zucchi-Note\\Jupyter\\YFunc\\__init__.py:101: RuntimeWarning: invalid value encountered in log10\n",
      "  VglogId=np.diff(Vg)/np.diff(np.log10(Id))\n",
      "c:\\Users\\Zucchi-Note\\Jupyter\\YFunc\\__init__.py:101: RuntimeWarning: invalid value encountered in log10\n",
      "  VglogId=np.diff(Vg)/np.diff(np.log10(Id))\n",
      "c:\\Users\\Zucchi-Note\\Jupyter\\YFunc\\__init__.py:12: RuntimeWarning: invalid value encountered in sqrt\n",
      "  return Id/np.sqrt(gm)\n"
     ]
    },
    {
     "name": "stdout",
     "output_type": "stream",
     "text": [
      "+0.00000e+00,+0.00000e+00,0.0,+0.00000e+00,+0.00000e+00,+0.00000e+00,+0.00000e+00,+0.00000e+00\n",
      "+0.00000e+00,+0.00000e+00,0.0,+0.00000e+00,+0.00000e+00,+0.00000e+00,+0.00000e+00,+0.00000e+00\n",
      "+0.00000e+00,+0.00000e+00,0.0,+0.00000e+00,+0.00000e+00,+0.00000e+00,+0.00000e+00,+0.00000e+00\n",
      "+0.00000e+00,+0.00000e+00,0.0,+0.00000e+00,+0.00000e+00,+0.00000e+00,+0.00000e+00,+0.00000e+00\n",
      "+0.00000e+00,+0.00000e+00,0.0,+0.00000e+00,+0.00000e+00,+0.00000e+00,+0.00000e+00,+0.00000e+00\n",
      "+0.00000e+00,+0.00000e+00,0.0,+0.00000e+00,+0.00000e+00,+0.00000e+00,+0.00000e+00,+0.00000e+00\n",
      "+0.00000e+00,+0.00000e+00,0.0,+0.00000e+00,+0.00000e+00,+0.00000e+00,+0.00000e+00,+0.00000e+00\n",
      "+0.00000e+00,+0.00000e+00,0.0,+0.00000e+00,+0.00000e+00,+0.00000e+00,+0.00000e+00,+0.00000e+00\n",
      "+0.00000e+00,+0.00000e+00,0.0,+0.00000e+00,+0.00000e+00,+0.00000e+00,+0.00000e+00,+0.00000e+00\n",
      "+0.00000e+00,+0.00000e+00,0.0,+0.00000e+00,+0.00000e+00,+0.00000e+00,+0.00000e+00,+0.00000e+00\n",
      "+0.00000e+00,+0.00000e+00,0.0,+0.00000e+00,+0.00000e+00,+0.00000e+00,+0.00000e+00,+0.00000e+00\n",
      "+0.00000e+00,+0.00000e+00,0.0,+0.00000e+00,+0.00000e+00,+0.00000e+00,+0.00000e+00,+0.00000e+00\n",
      "+0.00000e+00,+0.00000e+00,0.0,+0.00000e+00,+0.00000e+00,+0.00000e+00,+0.00000e+00,+0.00000e+00\n",
      "+0.00000e+00,+0.00000e+00,0.0,+0.00000e+00,+0.00000e+00,+0.00000e+00,+0.00000e+00,+0.00000e+00\n",
      "+0.00000e+00,+0.00000e+00,0.0,+0.00000e+00,+0.00000e+00,+0.00000e+00,+0.00000e+00,+0.00000e+00\n",
      "+0.00000e+00,+0.00000e+00,0.0,+0.00000e+00,+0.00000e+00,+0.00000e+00,+0.00000e+00,+0.00000e+00\n",
      "+0.00000e+00,+0.00000e+00,0.0,+0.00000e+00,+0.00000e+00,+0.00000e+00,+0.00000e+00,+0.00000e+00\n",
      "+0.00000e+00,+0.00000e+00,0.0,+0.00000e+00,+0.00000e+00,+0.00000e+00,+0.00000e+00,+0.00000e+00\n",
      "+0.00000e+00,+0.00000e+00,0.0,+0.00000e+00,+0.00000e+00,+0.00000e+00,+0.00000e+00,+0.00000e+00\n",
      "+0.00000e+00,+0.00000e+00,0.0,+0.00000e+00,+0.00000e+00,+0.00000e+00,+0.00000e+00,+0.00000e+00\n",
      "+0.00000e+00,+0.00000e+00,0.0,+0.00000e+00,+0.00000e+00,+0.00000e+00,+0.00000e+00,+0.00000e+00\n",
      "+0.00000e+00,+0.00000e+00,0.0,+0.00000e+00,+0.00000e+00,+0.00000e+00,+0.00000e+00,+0.00000e+00\n",
      "+0.00000e+00,+0.00000e+00,0.0,+0.00000e+00,+0.00000e+00,+0.00000e+00,+0.00000e+00,+0.00000e+00\n",
      "+0.00000e+00,+0.00000e+00,0.0,+0.00000e+00,+0.00000e+00,+0.00000e+00,+0.00000e+00,+0.00000e+00\n",
      "+0.00000e+00,+0.00000e+00,0.0,+0.00000e+00,+0.00000e+00,+0.00000e+00,+0.00000e+00,+0.00000e+00\n",
      "+0.00000e+00,+0.00000e+00,0.0,+0.00000e+00,+0.00000e+00,+0.00000e+00,+0.00000e+00,+0.00000e+00\n",
      "+0.00000e+00,+0.00000e+00,0.0,+0.00000e+00,+0.00000e+00,+0.00000e+00,+0.00000e+00,+0.00000e+00\n",
      "+0.00000e+00,+0.00000e+00,0.0,+0.00000e+00,+0.00000e+00,+0.00000e+00,+0.00000e+00,+0.00000e+00\n",
      "+0.00000e+00,+0.00000e+00,0.0,+0.00000e+00,+0.00000e+00,+0.00000e+00,+0.00000e+00,+0.00000e+00\n"
     ]
    }
   ],
   "source": [
    "now=datetime.now().strftime('%Y%m%d %H%M%S')\n",
    "root=path.rsplit('/', 1)[0]\n",
    "with open(f\"{root}/Parameters {now}.csv\", 'w') as myfile:\n",
    "    myfile.write('name,LIN,Vth,SS,migm,miyf,theta1,theta2,errmax%\\n')\n",
    "for file in listdir(root):\n",
    "    if 'IDVG' in file and file.endswith('csv'):\n",
    "        # try:\n",
    "            LIN, Vth, SS, migm, miyf, theta1, theta2, errmax=YFuncExtraction(f\"{root}/{file}\", GetWLfromPath(file), 6, 3.9, 5, 1, 'VG', 'ID', False, False, False, True)\n",
    "            WriteLog(root, file, now, LIN, Vth, SS, migm, miyf, theta1, theta2, errmax)\n",
    "        # except:\n",
    "        #     WriteLog(root, file, now, 0, 0, 0, 0, 0, 0, 0, 0)"
   ]
  },
  {
   "cell_type": "code",
   "execution_count": null,
   "id": "173e1c2d",
   "metadata": {},
   "outputs": [],
   "source": []
  }
 ],
 "metadata": {
  "kernelspec": {
   "display_name": "Python 3",
   "language": "python",
   "name": "python3"
  },
  "language_info": {
   "codemirror_mode": {
    "name": "ipython",
    "version": 3
   },
   "file_extension": ".py",
   "mimetype": "text/x-python",
   "name": "python",
   "nbconvert_exporter": "python",
   "pygments_lexer": "ipython3",
   "version": "3.11.4"
  }
 },
 "nbformat": 4,
 "nbformat_minor": 5
}
