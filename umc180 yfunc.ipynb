{
 "cells": [
  {
   "cell_type": "code",
   "execution_count": 1,
   "metadata": {},
   "outputs": [
    {
     "ename": "ModuleNotFoundError",
     "evalue": "No module named 'HPIB.HPT'",
     "output_type": "error",
     "traceback": [
      "\u001b[1;31m---------------------------------------------------------------------------\u001b[0m",
      "\u001b[1;31mModuleNotFoundError\u001b[0m                       Traceback (most recent call last)",
      "Cell \u001b[1;32mIn[1], line 3\u001b[0m\n\u001b[0;32m      1\u001b[0m \u001b[38;5;28;01mfrom\u001b[39;00m \u001b[38;5;21;01mos\u001b[39;00m \u001b[38;5;28;01mimport\u001b[39;00m listdir\n\u001b[0;32m      2\u001b[0m \u001b[38;5;28;01mfrom\u001b[39;00m \u001b[38;5;21;01mYFunc\u001b[39;00m \u001b[38;5;28;01mimport\u001b[39;00m YFuncExtraction, WriteLog, GUI\n\u001b[1;32m----> 3\u001b[0m \u001b[38;5;28;01mfrom\u001b[39;00m \u001b[38;5;21;01mHPIB\u001b[39;00m\u001b[38;5;21;01m.\u001b[39;00m\u001b[38;5;21;01mHPT\u001b[39;00m \u001b[38;5;28;01mimport\u001b[39;00m Plot2P\n\u001b[0;32m      4\u001b[0m \u001b[38;5;28;01mfrom\u001b[39;00m \u001b[38;5;21;01mHPIB\u001b[39;00m\u001b[38;5;21;01m.\u001b[39;00m\u001b[38;5;21;01mDevParams\u001b[39;00m \u001b[38;5;28;01mimport\u001b[39;00m UMC\n\u001b[0;32m      5\u001b[0m \u001b[38;5;28;01mfrom\u001b[39;00m \u001b[38;5;21;01mdatetime\u001b[39;00m \u001b[38;5;28;01mimport\u001b[39;00m datetime\n",
      "\u001b[1;31mModuleNotFoundError\u001b[0m: No module named 'HPIB.HPT'"
     ]
    }
   ],
   "source": [
    "from os import listdir\n",
    "from YFunc import YFuncExtraction, WriteLog, GUI\n",
    "from HPIB.HPT import Plot2P\n",
    "from HPIB.DevParams import UMC\n",
    "from datetime import datetime\n",
    "from tkinter import filedialog\n",
    "from IPython.display import display\n",
    "import pandas as pd\n",
    "import matplotlib.pyplot as plt\n"
   ]
  },
  {
   "cell_type": "code",
   "execution_count": null,
   "metadata": {},
   "outputs": [
    {
     "data": {
      "text/plain": [
       "'C:/Users/Zucchi-Note/Dropbox/Cryochip/Medidas/PostFix/241007 TN4 TN7 TN12 TP11/Cooldown/Parameters4P 20241024 1839.log'"
      ]
     },
     "metadata": {},
     "output_type": "display_data"
    }
   ],
   "source": [
    "%gui tk\n",
    "\n",
    "path=filedialog.askdirectory(title='Choose folder')\n",
    "\n",
    "now=datetime.now().strftime('%Y%m%d %H%M')\n",
    "\n",
    "root, prefix = path.rsplit('/', 1)\n",
    "\n",
    "Dispbar=display('', display_id=True)\n",
    "\n",
    "if 't' in prefix.lower():\n",
    "    with open(f\"{path}/Parameters {now}.log\", 'w') as myfile:\n",
    "        myfile.write('temp,LIN,Vth,SS,migm,miyf,theta1,theta2,errmax%\\n')\n",
    "\n",
    "if 'c' in prefix.lower():\n",
    "    with open(f\"{path}/Parameters2P {now}.log\", 'w') as myfile:\n",
    "        myfile.write('temp,res\\n')\n",
    "\n",
    "if 'cb' in prefix.lower():\n",
    "    with open(f\"{path}/Parameters4P {now}.log\", 'w') as myfile:\n",
    "        myfile.write('temp,res\\n')\n",
    "\n",
    "for file in listdir(path):\n",
    "    Dispbar.update(f\"{path}/{file}\")\n",
    "    if file.endswith('csv'):\n",
    "        meas, temp, _ =file.rsplit(' - ')\n",
    "        temp=float(temp)\n",
    "\n",
    "        if 't' in prefix.lower():\n",
    "            try:\n",
    "                LIN, Vth, SS, migm, miyf, theta1, theta2, errmax=YFuncExtraction(f\"{root}/{file}\",UMC[int(prefix[2:])], 4.2, 3.9, 5, 1, 'Vg', 'Id')\n",
    "                with open(f\"{path}/parameters {now}.log\", 'a') as myfile:\n",
    "                    myfile.write(f\"{format(temp, '7.3f')},{format(LIN, '1.3f')},{format(Vth, '1.3f')},{format(SS,'6.2f')},{format(migm, '.4e')},{format(miyf, '.4e')},{format(theta1, '+.3e')},{format(theta2, '+.3e')},{format(errmax, '.3e')}\\n\")\n",
    "            except: continue\n",
    "\n",
    "        if 'd' in prefix.lower():\n",
    "            try:\n",
    "                TreatDiode()\n",
    "            except: continue\n",
    "    \n",
    "        if '4P' in file or '2P' in file:\n",
    "            Res=Plot2P(f\"{root}/{prefix}/{file}\")\n",
    "            plt.close('all')\n",
    "            with open(f\"{root}/{prefix}/Parameters{meas} {now}.log\", 'a') as myfile:\n",
    "                myfile.write(f\"{format(temp, '7.3f')},{format(Res, '7.3f') if Res > 1 else format(Res, '.4e')}\\n\")"
   ]
  }
 ],
 "metadata": {
  "kernelspec": {
   "display_name": "Python 3",
   "language": "python",
   "name": "python3"
  },
  "language_info": {
   "codemirror_mode": {
    "name": "ipython",
    "version": 3
   },
   "file_extension": ".py",
   "mimetype": "text/x-python",
   "name": "python",
   "nbconvert_exporter": "python",
   "pygments_lexer": "ipython3",
   "version": "3.11.4"
  }
 },
 "nbformat": 4,
 "nbformat_minor": 2
}
